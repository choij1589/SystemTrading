{
  "cells": [
    {
      "cell_type": "markdown",
      "metadata": {},
      "source": [
        "# Strategy Comparison & Ranking\n",
        "\n",
        "Compare all implemented strategies side-by-side.\n",
        "\n",
        "## Strategies to Compare:\n",
        "1. Momentum 7d (simple)\n",
        "2. Momentum 20d (simple)\n",
        "3. Market Timing (mom7)\n",
        "4. Market Timing (mom20)\n",
        "5. RSI-based (simple)\n",
        "\n",
        "Compare by multiple metrics and rank strategies."
      ]
    },
    {
      "cell_type": "code",
      "metadata": {},
      "source": [
        "import warnings\nwarnings.filterwarnings('ignore')\n\nimport pandas as pd\nimport numpy as np\nimport matplotlib.pyplot as plt\nimport logging\n\nlogging.basicConfig(level=logging.INFO)\n\nprint(\"\u2713 Imports complete\")"
      ],
      "execution_count": null,
      "outputs": []
    },
    {
      "cell_type": "markdown",
      "metadata": {},
      "source": [
        "## 1. Load Data"
      ]
    },
    {
      "cell_type": "code",
      "metadata": {},
      "source": [
        "from CoinTrading.data import DataLoader\nfrom CoinTrading.indicators import Momentum, RSI, Noise, EMA\n\nloader = DataLoader(interval='1d', start_date='2021-04-01')\ntickers = loader.client.get_tickers(quote_asset='USDT')\ndata = loader.load_multiple(tickers[:50], skip_errors=True)\n\nindicators = [\n    Momentum(period=7), Momentum(period=20),\n    RSI(period=14), Noise(period=15),\n    EMA(period=7), EMA(period=20), EMA(period=50)\n]\n\nprocessed_data = {}\nfor symbol, df in data.items():\n    if len(df) < 200: continue\n    result = df.copy()\n    for ind in indicators:\n        result = ind.calculate(result)\n    processed_data[symbol] = result.dropna()\n\nprint(f\"Prepared {len(processed_data)} symbols\")"
      ],
      "execution_count": null,
      "outputs": []
    },
    {
      "cell_type": "markdown",
      "metadata": {},
      "source": [
        "## 2. Define Strategies"
      ]
    },
    {
      "cell_type": "code",
      "metadata": {},
      "source": [
        "from CoinTrading.strategy import MomentumSimpleStrategy, MarketTimingStrategy\n\nstrategies = {\n    'Mom7 Simple': MomentumSimpleStrategy(indicator='mom7', long_top_n=5, short_bottom_n=5),\n    'Mom20 Simple': MomentumSimpleStrategy(indicator='mom20', long_top_n=5, short_bottom_n=5),\n    'RSI Simple': MomentumSimpleStrategy(indicator='RSI', long_top_n=5, short_bottom_n=5),\n    'Mom7 Timing': MarketTimingStrategy(indicator='mom7', long_top_n=4, short_bottom_n=8, apply_noise_filter=True),\n    'Mom20 Timing': MarketTimingStrategy(indicator='mom20', long_top_n=4, short_bottom_n=8, apply_noise_filter=True),\n}\n\nprint(f\"Testing {len(strategies)} strategies\")"
      ],
      "execution_count": null,
      "outputs": []
    },
    {
      "cell_type": "markdown",
      "metadata": {},
      "source": [
        "## 3. Run Comparison"
      ]
    },
    {
      "cell_type": "code",
      "metadata": {},
      "source": [
        "from CoinTrading.optimization import compare_strategies, generate_comparison_report, plot_strategy_comparison\n\n# Compare all strategies\ncomparison_df, equity_curves = compare_strategies(\n    data=processed_data,\n    strategies=strategies,\n    transaction_fee=0.003\n)\n\n# Print report\nreport = generate_comparison_report(comparison_df, title=\"Strategy Comparison\")\nprint(report)"
      ],
      "execution_count": null,
      "outputs": []
    },
    {
      "cell_type": "markdown",
      "metadata": {},
      "source": [
        "## 4. Rank Strategies"
      ]
    },
    {
      "cell_type": "code",
      "metadata": {},
      "source": [
        "from CoinTrading.optimization import rank_strategies\n\n# Rank by multiple metrics\nranks = rank_strategies(\n    comparison_df,\n    metrics=['Total Return (%)', 'CAGR (%)', 'MDD (%)', 'Sharpe']\n)\n\nprint(\"\\n\" + \"=\"*80)\nprint(\"Strategy Rankings (1 = best)\")\nprint(\"=\"*80)\nprint(ranks.to_string())\nprint(f\"\\n\u2713 Overall Winner: {ranks.index[0]}\")"
      ],
      "execution_count": null,
      "outputs": []
    },
    {
      "cell_type": "markdown",
      "metadata": {},
      "source": [
        "## 5. Equity Curve Comparison"
      ]
    },
    {
      "cell_type": "code",
      "metadata": {},
      "source": [
        "# Plot all equity curves\nfig = plot_strategy_comparison(\n    equity_curves,\n    title='Strategy Comparison - All Strategies',\n    log_scale=True,\n    figsize=(15, 8)\n)\nplt.show()"
      ],
      "execution_count": null,
      "outputs": []
    },
    {
      "cell_type": "markdown",
      "metadata": {},
      "source": [
        "## 6. Risk/Return Scatter"
      ]
    },
    {
      "cell_type": "code",
      "metadata": {},
      "source": [
        "# Risk vs Return scatter plot\nplt.figure(figsize=(12, 8))\n\nfor name in comparison_df.index:\n    plt.scatter(\n        comparison_df.loc[name, 'Volatility (%)'],\n        comparison_df.loc[name, 'CAGR (%)'],\n        s=200,\n        alpha=0.6,\n        label=name\n    )\n\nplt.xlabel('Volatility (%)', fontsize=12)\nplt.ylabel('CAGR (%)', fontsize=12)\nplt.title('Risk vs Return', fontsize=14, fontweight='bold')\nplt.legend()\nplt.grid(True, alpha=0.3)\nplt.show()"
      ],
      "execution_count": null,
      "outputs": []
    },
    {
      "cell_type": "markdown",
      "metadata": {},
      "source": [
        "## 7. Monthly Returns Heatmap"
      ]
    },
    {
      "cell_type": "code",
      "metadata": {},
      "source": [
        "from CoinTrading.backtesting.visualization import plot_monthly_returns\n\n# Get best strategy\nbest_strategy = ranks.index[0]\nbest_equity = equity_curves[best_strategy]\n\nplt.figure(figsize=(15, 8))\nplt.title(f'Monthly Returns - {best_strategy}')\nplot_monthly_returns(best_equity.pct_change().dropna())\nplt.show()"
      ],
      "execution_count": null,
      "outputs": []
    },
    {
      "cell_type": "markdown",
      "metadata": {},
      "source": [
        "## Summary\n",
        "\n",
        "\u2705 Compared all strategies side-by-side\n",
        "- Multiple performance metrics\n",
        "- Risk-adjusted rankings\n",
        "- Visual comparisons\n",
        "\n",
        "**Expected Results:**\n",
        "- Market timing strategies outperform simple strategies\n",
        "- Mom7 with timing likely best overall\n",
        "- RSI underperforms momentum-based approaches\n",
        "\n",
        "**Key Improvements:**\n",
        "- \u2705 Systematic comparison framework\n",
        "- \u2705 Multi-metric ranking\n",
        "- \u2705 Proper validation methodology\n",
        "- \u2705 Reusable comparison utilities\n",
        "\n",
        "## Next Steps\n",
        "\n",
        "Ready for live trading? See the execution module:\n",
        "```python\n",
        "from CoinTrading.execution import Trader, OrderManager, RiskManager\n",
        "\n",
        "# Setup (start with paper trading!)\n",
        "trader = Trader(\n",
        "    strategy=strategies['Mom7 Timing'],\n",
        "    data_loader=loader,\n",
        "    order_manager=OrderManager(paper_trading=True),\n",
        "    risk_manager=RiskManager(),\n",
        "    dry_run=True  # Extra safety!\n",
        ")\n",
        "\n",
        "trader.run_live()  # Monitor only\n",
        "```\n",
        "\n",
        "**Remember:** Always test thoroughly before live trading!"
      ]
    }
  ],
  "metadata": {
    "kernelspec": {
      "display_name": "SystemTrading",
      "language": "python",
      "name": "systemtrading"
    },
    "language_info": {
      "name": "python",
      "version": "3.10.0"
    }
  },
  "nbformat": 4,
  "nbformat_minor": 5
}